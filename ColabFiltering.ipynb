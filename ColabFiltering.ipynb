{
 "cells": [
  {
   "cell_type": "code",
   "execution_count": 20,
   "metadata": {},
   "outputs": [
    {
     "name": "stdout",
     "output_type": "stream",
     "text": [
      "The snakeviz extension is already loaded. To reload it, use:\n",
      "  %reload_ext snakeviz\n",
      "The autoreload extension is already loaded. To reload it, use:\n",
      "  %reload_ext autoreload\n"
     ]
    }
   ],
   "source": [
    "%load_ext snakeviz\n",
    "%load_ext autoreload\n",
    "%autoreload 2\n",
    "\n",
    "import pickle\n",
    "import multiprocessing\n",
    "\n",
    "import numpy as np\n",
    "import pandas as pd\n",
    "import matplotlib.pyplot as plt\n",
    "\n",
    "from tqdm import tqdm\n",
    "from scipy.stats import pearsonr"
   ]
  },
  {
   "cell_type": "code",
   "execution_count": 62,
   "metadata": {},
   "outputs": [],
   "source": [
    "def discard_low_occurence(df, col, zero_thresh=2000):\n",
    "    \"\"\" Reduce the size of the dataset by discarding features with lower frequency. \n",
    "        This is done by taking the first derivative of the distribution curve and trimming\n",
    "        at a threshold for consecutive zeros (representing the point where the curve's steepness falls)\n",
    "        \n",
    "        Inputs:\n",
    "            - df: input dataframe\n",
    "            - col: feature used to crop data based on frequency\n",
    "            - zero_thresh: number of consecutive zeroes to consider before trimming curve\n",
    "            \n",
    "        Returns:\n",
    "            - df (dataframe): trimmed dataframe\n",
    "        \n",
    "        plots original distribution curve with red dot at the cutoff point\n",
    "            \n",
    "    \"\"\"\n",
    "    occurences = df[col].value_counts()\n",
    "    # get threshold \n",
    "    d = np.diff(occurences.values)\n",
    "    # find run starts\n",
    "    loc_run_start = np.empty(d.shape[0], dtype=bool)\n",
    "    loc_run_start[0] = True\n",
    "    np.not_equal(d[:-1], d[1:], out=loc_run_start[1:])\n",
    "    run_starts = np.nonzero(loc_run_start)[0]\n",
    "    # find run values\n",
    "    run_values = d[loc_run_start]\n",
    "    # find run lengths\n",
    "    run_lengths = np.diff(np.append(run_starts, d.shape[0]))\n",
    "    zero_runs_idx = np.where(run_values == 0)[0]\n",
    "    thresh = np.argmax(run_lengths[zero_runs_idx] > zero_thresh)\n",
    "\n",
    "    plt.plot(occurences.values[:])\n",
    "    plt.plot(thresh, occurences.values[thresh], 'ro')\n",
    "\n",
    "    mask = df[col].isin(occurences[:thresh].index.values)\n",
    "    return df.loc[mask]\n",
    "\n",
    "def df_to_relational_dict(df, key_col, feature_col):\n",
    "    \"\"\" \n",
    "    Converts MovieLens dataframe to dictionary objects for faster parsing\n",
    "    \n",
    "    Inputs:\n",
    "        - df (pd.DataFrame): input dataframe\n",
    "        - key_col (String): Column to be used as key on the resulting dictionary\n",
    "        - feature_col (String): Column to be used as value on the resulting dictionary\n",
    "    \n",
    "    Returns:\n",
    "        - d (dict): dictionary with the format as follows:\n",
    "        \n",
    "            d = {\n",
    "                <key>: \n",
    "                    'rating': list[],\n",
    "                    'mean_rating': float,\n",
    "                    <feature_col>: list[]                   \n",
    "                \n",
    "            }\n",
    "    \"\"\"\n",
    "    df = df.set_index(key_col).sort_index()   \n",
    "    keys, index = np.unique(df.index.values, True)\n",
    "    keys = keys.astype(int)\n",
    "    \n",
    "    feature, ratings = df.values.T\n",
    "    feat_arrays = np.split(feature.astype(np.uint8), index[1:])\n",
    "    rating_arrays = np.split(ratings, index[1:])\n",
    "    df = pd.DataFrame({key_col:keys, feature_col:[list(a) for a in feat_arrays],\\\n",
    "                       'rating':[list(a) for a in rating_arrays], 'mean_rating': [np.mean(a) for a in rating_arrays]})\n",
    "    \n",
    "    d = df.set_index(key_col).T.to_dict()\n",
    "    return d\n",
    "\n",
    "def build_deviation_dict(d, key_col, feature_col):\n",
    "    \"\"\"\n",
    "    Pre-calculates deviations for the ratings\n",
    "    \n",
    "    Inputs:\n",
    "        - d (dict): data dictionary obtained from relational dictionary\n",
    "        - key_col (String): Column to be used as key \n",
    "        - feature_col (String): Column to be used as value \n",
    "    \n",
    "    Returns:\n",
    "        - deviations (dict): dictionary with pre-calculated deviations for ratings\n",
    "        \n",
    "    \"\"\"\n",
    "    deviations = {'key': key_col,\n",
    "                 'feature': feature_col}\n",
    "    \n",
    "    for key in d:\n",
    "        deviations[key] = {}\n",
    "        entry = d[key]\n",
    "        for feature in entry[feature_col]:\n",
    "            rating_index = entry[feature_col].index(feature)\n",
    "            rating = entry['rating'][rating_index]\n",
    "            deviations[key][feature] = rating - entry['mean_rating']\n",
    "            \n",
    "        \n",
    "    return deviations\n",
    "\n",
    "def calc_weights(i, j):\n",
    "    \"\"\"\n",
    "        Calculates Pearson's correlation coefficient between two entry \n",
    "        records. Output to be used as weight in the collaborative filtering algo.\n",
    "        \n",
    "        Inputs:\n",
    "            - i (int): reference entry\n",
    "            - j (int): comparison entry\n",
    "        \n",
    "        Returns:\n",
    "            -r (float): pearson correlation coefficient between ratings\n",
    "    \"\"\"\n",
    "    if (i == j):\n",
    "        return 1.0\n",
    "    \n",
    "    i, deviations_i = list(train_deviations[i].keys()), list(train_deviations[i].values())\n",
    "    j, deviations_j = list(train_deviations[j].keys()), list(train_deviations[j].values())\n",
    "    \n",
    "    # Skip if not enough overlapping movies\n",
    "    overlap, overlap_idx_i, overlap_idx_j = np.intersect1d(i, j, return_indices=True)\n",
    "    if len(overlap) < MIN_OVERLAP:\n",
    "        return None\n",
    "    # Compute (i,j) weight with pearsons corr. coeff.\n",
    "    r, _ = pearsonr(np.array(deviations_i)[overlap_idx_i], np.array(deviations_j)[overlap_idx_j])\n",
    "    return r\n",
    "\n",
    "def build_weights_parallel(entries, train_dict, n_processes=8):\n",
    "    \"\"\" \n",
    "        Parallelized pipeline to efficiently pre-calculate weights for larger data volumes.\n",
    "        \n",
    "        Inputs:\n",
    "            - entries (list): list of keys to fetch feature values from data dictionary\n",
    "            - train_dict (dict): data source\n",
    "            -n_processes (int): number of processes to spawn. Best set to number of cores of the CPU\n",
    "        \n",
    "        Returns:\n",
    "            - weights_dict (dict): pre-calculated symmetrical weight map for data set\n",
    "    \"\"\"\n",
    "    rows = []\n",
    "\n",
    "    with multiprocessing.Pool(PROCESSES) as pool:    \n",
    "        for loop_idx, i in enumerate(tqdm(entries, position=0, leave=True)):\n",
    "            row = []        \n",
    "            for j in range(0, len(entries), PROCESSES*2):\n",
    "                batch = entries[j:j+PROCESSES*2]\n",
    "                res = [pool.apply_async(calc_weights, (i, j)) for j in batch]\n",
    "                row += res\n",
    "\n",
    "            rows.append([r.get() for r in row])\n",
    "        pool.close()\n",
    "        pool.join()\n",
    "        \n",
    "    index = list(train_dict.keys())\n",
    "    weights_df = pd.DataFrame(rows, columns=index, index=index)\n",
    "    weights_df = weights_df.where(pd.notnull(weights_df), None)\n",
    "    weights_dict = weights_df.to_dict()\n",
    "    return weights_dict\n",
    "\n",
    "def predict(i, m):\n",
    "    \"\"\" \n",
    "        Collaborative filtering prediction algorithm\n",
    "        \n",
    "        Inputs:\n",
    "            - i (int): subject id of prediction\n",
    "            - m (int): item id of prediction\n",
    "        \n",
    "        Returns:\n",
    "            - pred (float): predicted deviation in relation to subject's average deviation\n",
    "            \n",
    "    \"\"\"\n",
    "    weighted_sum = 0\n",
    "    w_i = limited_weights[i]\n",
    "    mean_rating = train_dict[i]['mean_rating']\n",
    "    \n",
    "    for j in train_dict:\n",
    "        try:\n",
    "            w_ij = w_i[j]\n",
    "            if w_ij is None:\n",
    "                continue\n",
    "    \n",
    "            rating_deviation = train_deviations[j][m]\n",
    "            weighted_sum += w_ij*rating_deviation\n",
    "        except KeyError:\n",
    "            continue\n",
    "    return (weighted_sum + mean_rating)/abs(sum(w_i.values()))\n",
    "\n",
    "def evaluate(d):\n",
    "    mse = 0\n",
    "    mae = 0\n",
    "    n = 0\n",
    "    for key in tqdm(d):\n",
    "        for idx, feat in enumerate(d[key][FEATURE]):\n",
    "            gt = d[key]['rating'][idx] - d[key]['mean_rating']\n",
    "            pred = predict(key, feat)\n",
    "\n",
    "            pred = min(5, pred)\n",
    "            pred = max(0.5, pred)\n",
    "\n",
    "            err = (pred - gt)        \n",
    "            mae += err\n",
    "            mse += err**2\n",
    "\n",
    "            n += 1\n",
    "    return mae, mse, n"
   ]
  },
  {
   "cell_type": "markdown",
   "metadata": {},
   "source": [
    "# Preprocessing"
   ]
  },
  {
   "cell_type": "code",
   "execution_count": 43,
   "metadata": {},
   "outputs": [],
   "source": [
    "raw_df = pd.read_csv(\"../movielens20M/rating.csv\")\n",
    "# Drop timestamp col\n",
    "raw_df = raw_df.drop(['timestamp'], axis=1)"
   ]
  },
  {
   "cell_type": "markdown",
   "metadata": {},
   "source": [
    "### Create subset by discarding low occurrence users"
   ]
  },
  {
   "cell_type": "code",
   "execution_count": 44,
   "metadata": {},
   "outputs": [
    {
     "data": {
      "image/png": "[encoded data removed]",
      "text/plain": [
       "<Figure size 432x288 with 1 Axes>"
      ]
     },
     "metadata": {
      "needs_background": "light"
     },
     "output_type": "display_data"
    }
   ],
   "source": [
    "df = discard_low_occurence(raw_df, 'userId')\n",
    "plt.title(f'{len(df)} entries remaining')\n",
    "plt.show()"
   ]
  },
  {
   "cell_type": "markdown",
   "metadata": {},
   "source": [
    "### Further reduce subset by discarding low occurrence movies"
   ]
  },
  {
   "cell_type": "code",
   "execution_count": 45,
   "metadata": {},
   "outputs": [
    {
     "data": {
      "image/png": "[encoded data removed]",
      "text/plain": [
       "<Figure size 432x288 with 1 Axes>"
      ]
     },
     "metadata": {
      "needs_background": "light"
     },
     "output_type": "display_data"
    }
   ],
   "source": [
    "df = discard_low_occurence(df, 'movieId')\n",
    "plt.title(f'{len(df)} entries remaining')\n",
    "plt.show()"
   ]
  },
  {
   "cell_type": "markdown",
   "metadata": {},
   "source": [
    "### Test/Train split"
   ]
  },
  {
   "cell_type": "code",
   "execution_count": 46,
   "metadata": {},
   "outputs": [],
   "source": [
    "split_mask = np.random.rand(len(df)) < 0.8\n",
    "train_df = df[split_mask]\n",
    "test_df = df[~split_mask]"
   ]
  },
  {
   "cell_type": "markdown",
   "metadata": {},
   "source": [
    "# Item-Item Colab. Filtering"
   ]
  },
  {
   "cell_type": "code",
   "execution_count": 47,
   "metadata": {},
   "outputs": [],
   "source": [
    "KEY = 'movieId'\n",
    "FEATURE = 'userId'"
   ]
  },
  {
   "cell_type": "code",
   "execution_count": 48,
   "metadata": {},
   "outputs": [],
   "source": [
    "train_dict = df_to_relational_dict(train_df, key_col=KEY, feature_col=FEATURE)\n",
    "test_dict = df_to_relational_dict(test_df, key_col=KEY, feature_col=FEATURE)"
   ]
  },
  {
   "cell_type": "code",
   "execution_count": 49,
   "metadata": {},
   "outputs": [],
   "source": [
    "train_deviations = build_deviation_dict(train_dict, KEY, FEATURE)"
   ]
  },
  {
   "cell_type": "markdown",
   "metadata": {},
   "source": [
    "### Precompute user-user weights"
   ]
  },
  {
   "cell_type": "code",
   "execution_count": 50,
   "metadata": {},
   "outputs": [],
   "source": [
    "PROCESSES = 8\n",
    "MIN_OVERLAP = 5"
   ]
  },
  {
   "cell_type": "code",
   "execution_count": 51,
   "metadata": {},
   "outputs": [
    {
     "name": "stderr",
     "output_type": "stream",
     "text": [
      "100%|██████████| 852/852 [01:42<00:00,  8.31it/s]\n"
     ]
    },
    {
     "name": "stdout",
     "output_type": "stream",
     "text": [
      " \n",
      "*** Profile stats marshalled to file '/tmp/tmpwgn6cp0a'. \n",
      "Opening SnakeViz in a new tab...\n"
     ]
    }
   ],
   "source": [
    "# %%snakeviz -t\n",
    "\n",
    "entries = list(train_dict.keys())\n",
    "weights = build_weights_parallel(entries, train_dict, PROCESSES)"
   ]
  },
  {
   "cell_type": "markdown",
   "metadata": {},
   "source": [
    "### Prediction"
   ]
  },
  {
   "cell_type": "code",
   "execution_count": 53,
   "metadata": {},
   "outputs": [],
   "source": [
    "# Limit to most important K neighbours\n",
    "K = 25\n",
    "limited_weights = {}\n",
    "for key in weights:\n",
    "    w_i = weights[key]\n",
    "    limited_weights[key] = dict(sorted(w_i.items(), key=lambda x: abs(x[1]), reverse=True)[1:K+1])"
   ]
  },
  {
   "cell_type": "markdown",
   "metadata": {},
   "source": [
    "### Evaluation"
   ]
  },
  {
   "cell_type": "code",
   "execution_count": 54,
   "metadata": {},
   "outputs": [
    {
     "name": "stderr",
     "output_type": "stream",
     "text": [
      "100%|██████████| 852/852 [01:47<00:00,  7.93it/s]\n",
      "  0%|          | 3/852 [00:00<00:32, 26.26it/s]"
     ]
    },
    {
     "name": "stdout",
     "output_type": "stream",
     "text": [
      "Train MAE: 0.8761, MSE: 1.7433, RMSE: 1.3203\n"
     ]
    },
    {
     "name": "stderr",
     "output_type": "stream",
     "text": [
      "100%|██████████| 852/852 [00:25<00:00, 33.17it/s]"
     ]
    },
    {
     "name": "stdout",
     "output_type": "stream",
     "text": [
      "Test MAE: 0.8755, MSE: 1.7935, RMSE: 1.3392\n"
     ]
    },
    {
     "name": "stderr",
     "output_type": "stream",
     "text": [
      "\n"
     ]
    }
   ],
   "source": [
    "# %%snakeviz -t\n",
    "mae, mse, n = evaluate(train_dict)\n",
    "print(f\"Train MAE: {mae/n:.04f}, MSE: {mse/n:.04f}, RMSE: {np.sqrt(mse/n):.04f}\")\n",
    "mae, mse, n = evaluate(test_dict)\n",
    "print(f\"Test MAE: {mae/n:.04f}, MSE: {mse/n:.04f}, RMSE: {np.sqrt(mse/n):.04f}\")"
   ]
  },
  {
   "cell_type": "code",
   "execution_count": null,
   "metadata": {},
   "outputs": [],
   "source": []
  },
  {
   "cell_type": "markdown",
   "metadata": {},
   "source": [
    "# User-User Colab. Filtering"
   ]
  },
  {
   "cell_type": "code",
   "execution_count": 57,
   "metadata": {},
   "outputs": [],
   "source": [
    "KEY = 'userId'\n",
    "FEATURE = 'movieId'"
   ]
  },
  {
   "cell_type": "code",
   "execution_count": 58,
   "metadata": {},
   "outputs": [],
   "source": [
    "train_dict = df_to_relational_dict(train_df, key_col=KEY, feature_col=FEATURE)\n",
    "test_dict = df_to_relational_dict(test_df, key_col=KEY, feature_col=FEATURE)"
   ]
  },
  {
   "cell_type": "code",
   "execution_count": 59,
   "metadata": {},
   "outputs": [],
   "source": [
    "train_deviations = build_deviation_dict(train_dict, KEY, FEATURE)"
   ]
  },
  {
   "cell_type": "markdown",
   "metadata": {},
   "source": [
    "### Precompute user-user weights"
   ]
  },
  {
   "cell_type": "code",
   "execution_count": 61,
   "metadata": {},
   "outputs": [
    {
     "name": "stderr",
     "output_type": "stream",
     "text": [
      "100%|██████████| 1386/1386 [03:57<00:00,  5.83it/s]\n"
     ]
    }
   ],
   "source": [
    "# %%snakeviz -t\n",
    "entries = list(train_dict.keys())\n",
    "weights = build_weights_parallel(entries, train_dict, PROCESSES)"
   ]
  },
  {
   "cell_type": "markdown",
   "metadata": {},
   "source": [
    "### Prediction"
   ]
  },
  {
   "cell_type": "code",
   "execution_count": 63,
   "metadata": {},
   "outputs": [],
   "source": [
    "# Limit to most important K neighbours\n",
    "K = 25\n",
    "limited_weights = {}\n",
    "for key in weights:\n",
    "    w_i = weights[key]\n",
    "    limited_weights[key] = dict(sorted(w_i.items(), key=lambda x: abs(x[1]), reverse=True)[1:K+1])"
   ]
  },
  {
   "cell_type": "markdown",
   "metadata": {},
   "source": [
    "### Evaluation"
   ]
  },
  {
   "cell_type": "code",
   "execution_count": 64,
   "metadata": {},
   "outputs": [
    {
     "name": "stderr",
     "output_type": "stream",
     "text": [
      "100%|██████████| 1386/1386 [02:41<00:00,  8.57it/s]\n",
      "  0%|          | 4/1386 [00:00<00:38, 35.93it/s]"
     ]
    },
    {
     "name": "stdout",
     "output_type": "stream",
     "text": [
      "Train MAE: 0.7308, MSE: 1.4695, RMSE: 1.2122\n"
     ]
    },
    {
     "name": "stderr",
     "output_type": "stream",
     "text": [
      "100%|██████████| 1386/1386 [00:40<00:00, 34.41it/s]"
     ]
    },
    {
     "name": "stdout",
     "output_type": "stream",
     "text": [
      "Test MAE: 0.7231, MSE: 1.4972, RMSE: 1.2236\n"
     ]
    },
    {
     "name": "stderr",
     "output_type": "stream",
     "text": [
      "\n"
     ]
    }
   ],
   "source": [
    "# %%snakeviz -t\n",
    "mae, mse, n = evaluate(train_dict)\n",
    "print(f\"Train MAE: {mae/n:.04f}, MSE: {mse/n:.04f}, RMSE: {np.sqrt(mse/n):.04f}\")\n",
    "mae, mse, n = evaluate(test_dict)\n",
    "print(f\"Test MAE: {mae/n:.04f}, MSE: {mse/n:.04f}, RMSE: {np.sqrt(mse/n):.04f}\")"
   ]
  },
  {
   "cell_type": "code",
   "execution_count": null,
   "metadata": {},
   "outputs": [],
   "source": []
  }
 ],
 "metadata": {
  "kernelspec": {
   "display_name": "torch",
   "language": "python",
   "name": "torch"
  },
  "language_info": {
   "codemirror_mode": {
    "name": "ipython",
    "version": 3
   },
   "file_extension": ".py",
   "mimetype": "text/x-python",
   "name": "python",
   "nbconvert_exporter": "python",
   "pygments_lexer": "ipython3",
   "version": "3.8.3"
  }
 },
 "nbformat": 4,
 "nbformat_minor": 4
}
